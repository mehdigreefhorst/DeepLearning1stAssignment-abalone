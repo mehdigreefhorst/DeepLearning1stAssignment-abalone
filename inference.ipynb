{
 "cells": [
  {
   "cell_type": "markdown",
   "metadata": {},
   "source": [
    "# Inference notebook"
   ]
  },
  {
   "cell_type": "code",
   "execution_count": 7,
   "metadata": {},
   "outputs": [],
   "source": [
    "from data_load import AbalonDataset\n",
    "from torch.utils.data import DataLoader\n",
    "\n",
    "def load_data(batch_size):\n",
    "\n",
    "    train_dataset, test_dataset = AbalonDataset.create_train_test_val(\"train.csv\")\n",
    "    val_dataset = AbalonDataset.create_train_test_val(\"test.csv\", train_dataset)\n",
    "\n",
    "    train_loader = DataLoader(train_dataset, batch_size=batch_size)\n",
    "    val_loader = DataLoader(test_dataset, batch_size=batch_size)\n",
    "    test_loader = DataLoader(val_dataset, batch_size=batch_size)\n",
    "\n",
    "    return train_loader, val_loader, test_loader\n"
   ]
  },
  {
   "cell_type": "markdown",
   "metadata": {},
   "source": [
    "### Run inference\n",
    "run the code below to infer the predicted rings and add them as a new column"
   ]
  },
  {
   "cell_type": "code",
   "execution_count": 10,
   "metadata": {},
   "outputs": [
    {
     "name": "stdout",
     "output_type": "stream",
     "text": [
      "correctly saved into final_test.csv the predictions + original data\n"
     ]
    },
    {
     "name": "stderr",
     "output_type": "stream",
     "text": [
      "/Users/mehdigreefhorst/Desktop/DeepLearning1stAssignment-abalone/data_load.py:33: FutureWarning: Series.__getitem__ treating keys as positions is deprecated. In a future version, integer keys will always be treated as labels (consistent with DataFrame behavior). To access a value by position, use `ser.iloc[pos]`\n",
      "  numerical_tensor = torch.tensor(row, dtype=torch.float32)\n"
     ]
    }
   ],
   "source": [
    "import torch\n",
    "import torch.nn as nn\n",
    "import pandas as pd\n",
    "\n",
    "class AbaloneNetworkTwoLayer(nn.Module):\n",
    "    def __init__(self, num_inputs, num_hidden, num_outputs):\n",
    "        super().__init__()\n",
    "        self.model = nn.Sequential(\n",
    "            nn.Linear(num_inputs, num_hidden),\n",
    "            nn.Tanh(),            \n",
    "            nn.Linear(num_hidden, num_hidden),\n",
    "            nn.Tanh(),\n",
    "            nn.Linear(num_hidden, num_outputs))\n",
    "\n",
    "    def forward(self, x):\n",
    "        return self.model(x)\n",
    "\n",
    "def create_predicted_csv(model_or_saved, test_loader, device):\n",
    "    \"\"\"if you set the model_or_saved to None or False, you use the torch pth file to load the model. You can also provide \n",
    "    model as parameter, then it will work based on the provided model\"\"\"\n",
    "    if not model_or_saved:\n",
    "        model = torch.load(\"best_model1.37.pth\", weights_only=False)\n",
    "    else:\n",
    "        model = model_or_saved\n",
    "    model.eval()\n",
    "    final_predictions = []\n",
    "    with torch.no_grad():\n",
    "        for inputs, targets in test_loader:\n",
    "            inputs, targets = inputs.to(device), targets.to(device)\n",
    "            outputs = model(inputs)\n",
    "            final_predictions.extend([round(float(output), 2) for output in outputs])\n",
    "    \n",
    "    final_df = pd.read_csv(\"data/test.csv\")\n",
    "    final_df[\"prediction\"] = final_predictions\n",
    "    final_df.to_csv(\"data/final.csv\")\n",
    "\n",
    "    return \"correctly saved into final_test.csv the predictions + original data\"\n",
    "device = torch.device(\"cpu\")\n",
    "trainloader, valloader, testloader = load_data(32)\n",
    "print(create_predicted_csv(False, testloader, device))"
   ]
  },
  {
   "cell_type": "code",
   "execution_count": null,
   "metadata": {},
   "outputs": [],
   "source": []
  }
 ],
 "metadata": {
  "kernelspec": {
   "display_name": "venv",
   "language": "python",
   "name": "python3"
  },
  "language_info": {
   "codemirror_mode": {
    "name": "ipython",
    "version": 3
   },
   "file_extension": ".py",
   "mimetype": "text/x-python",
   "name": "python",
   "nbconvert_exporter": "python",
   "pygments_lexer": "ipython3",
   "version": "3.10.12"
  }
 },
 "nbformat": 4,
 "nbformat_minor": 2
}
